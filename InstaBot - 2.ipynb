{
 "cells": [
  {
   "cell_type": "markdown",
   "metadata": {},
   "source": [
    "Personal Notebook"
   ]
  },
  {
   "cell_type": "code",
   "execution_count": 101,
   "metadata": {},
   "outputs": [],
   "source": [
    "from selenium import webdriver\n",
    "import time\n",
    "from selenium.webdriver.support.ui import WebDriverWait\n",
    "from selenium.webdriver.support import expected_conditions as EC\n",
    "from selenium.webdriver.common.by import By\n",
    "from selenium.common.exceptions import TimeoutException\n",
    "from selenium.common.exceptions import NoSuchElementException\n",
    "import matplotlib.pyplot as plt"
   ]
  },
  {
   "cell_type": "code",
   "execution_count": 104,
   "metadata": {},
   "outputs": [],
   "source": [
    "driver = webdriver.Chrome(executable_path = \"D:\\chromedriver\")"
   ]
  },
  {
   "cell_type": "markdown",
   "metadata": {},
   "source": [
    "## Login to the account"
   ]
  },
  {
   "cell_type": "code",
   "execution_count": 105,
   "metadata": {},
   "outputs": [
    {
     "name": "stdout",
     "output_type": "stream",
     "text": [
      "Hold on... We are logging in. Hope you find the session interative. :)\n",
      "Successfully Logged-In\n"
     ]
    }
   ],
   "source": [
    "driver.get(\"https://www.instagram.com\")\n",
    "wait = WebDriverWait(driver, 10)#Waiting for 10 seconds\n",
    "wait.until(EC.presence_of_element_located((By.NAME, \"username\")))#Wait for the imput box for username\n",
    "username = driver.find_element_by_name(\"username\") #finding the input field of username by name\n",
    "#user = input(\"Enter your username/phone-number/email: \")\n",
    "username.send_keys(\"coder.ninjas\") #Entering the username\n",
    "wait = WebDriverWait(driver, 10) #Waiting for 10 seconds\n",
    "wait.until(EC.presence_of_element_located((By.NAME, \"password\"))) #Wait for the imput box for password\n",
    "password = driver.find_element_by_name(\"password\") #finding the input field for password\n",
    "#key = input(\"Enter you Password: \")\n",
    "password.send_keys(\"q1w2e3r4t5y6\") #Enter.ing the password\n",
    "print(\"Hold on... We are logging in. Hope you find the session interative. :)\")\n",
    "wait = WebDriverWait(driver, 10) #Waiting for 10 seconds\n",
    "wait.until(EC.element_to_be_clickable((By.XPATH, \"//button[contains(@class, 'L3NKy')]\")))#wait for the button to be clickable\n",
    "loginButton = driver.find_element_by_xpath(\"//button[contains(@class, 'L3NKy')]\") #finding the login button\n",
    "loginButton.click() #click the button to login\n",
    "#####Work On the alert if comes######\n",
    "try:\n",
    "    wait = WebDriverWait(driver, 10) #Waiting for 5 seconds\n",
    "    wait.until(EC.presence_of_element_located((By.CLASS_NAME, \"eiCW-\")))#wait for the button to be clickable\n",
    "    error_message = driver.find_element_by_class_name(\"eiCW-\") #Class appear if password is incorrect\n",
    "    errorCode = \"Password you have entered is incorrect\"\n",
    "    print(\"Unable to login\")\n",
    "        \n",
    "except (TimeoutException):\n",
    "    print(\"Successfully Logged-In\") #When everything goes right\n",
    "    errorCode = \"Successfully Logged-In\"\n",
    "if(errorCode == \"Successfully Logged-In\"):\n",
    "    ###############Pop-up Handling##########\n",
    "    time.sleep(2)\n",
    "    try:\n",
    "        alertWindow = driver.find_element_by_xpath(\"//button[contains(@class, 'HoLwm')]\")\n",
    "        alertWindow.click()\n",
    "    except (NoSuchElementException):\n",
    "        pass\n",
    "else:\n",
    "    print(\"Login Failed\")"
   ]
  },
  {
   "cell_type": "markdown",
   "metadata": {},
   "source": [
    "## From the list of instagram handles you obtained when you searched ‘food’ in previous project. Open the first 10 handles and find the top 5 which have the highest number of followers"
   ]
  },
  {
   "cell_type": "code",
   "execution_count": 107,
   "metadata": {},
   "outputs": [
    {
     "name": "stdout",
     "output_type": "stream",
     "text": [
      "Searching a profile foodtalkindia\n",
      "Searching a profile foodie_incarnate\n",
      "Searching a profile yourfoodlab\n",
      "Searching a profile foodconnectindia\n",
      "Searching a profile dilsefoodie\n",
      "Searching a profile foodhallindia\n",
      "Searching a profile food\n",
      "Searching a profile food_lunatic\n",
      "Searching a profile foodandwine\n",
      "Searching a profile foodbloggerai\n",
      "------------------------------------------------------------\n",
      "Top 5 profiles with highest followers are\n",
      "------------------------------------------------------------\n",
      "foodandwine\n",
      "yourfoodlab\n",
      "dilsefoodie\n",
      "foodtalkindia\n",
      "foodie_incarnate\n",
      "------------------------------------------------------------\n"
     ]
    }
   ],
   "source": [
    "def visit(name): #function to visit any profile on instagram\n",
    "    typeField = driver.find_element_by_xpath(\"//input[contains(@class, 'XTCLo')]\") #Finding the input search field\n",
    "    typeField.clear() #Clearing the input field if already typed\n",
    "    print(\"Searching a profile\", name)\n",
    "    typeField.send_keys(name) #Entering the profile name\n",
    "    waitNext = WebDriverWait(driver, 30)\n",
    "    waitNext.until(EC.element_to_be_clickable((By.CLASS_NAME, \"Ap253\")))\n",
    "    account = driver.find_elements_by_class_name(\"Ap253\") #Found the \n",
    "    for j in account:\n",
    "        if(j.text == name):\n",
    "            j.click()\n",
    "            time.sleep(3)\n",
    "            return\n",
    "def FollowersNumber():\n",
    "    time.sleep(2)\n",
    "    Number = driver.find_elements_by_class_name(\"g47SY\")\n",
    "    #time.sleep(2)\n",
    "    exact = Number[1].get_attribute(\"title\")\n",
    "    if(\",\" in exact):\n",
    "        k = \"\"\n",
    "        a = exact.split(\",\")\n",
    "        for j in range(len(a)):\n",
    "            k = k + a[j]\n",
    "        intExact = int(k)\n",
    "        return intExact\n",
    "    else:\n",
    "        intExact = int(exact)\n",
    "        return intExact\n",
    "        \n",
    "############ Typing the keyword \"food\" into the search box ###########\n",
    "typeField = driver.find_element_by_xpath(\"//input[contains(@class, 'XTCLo')]\") #I have to proceed to input box now\n",
    "typeField.send_keys(\"food\") # Entering the given keyword \"food\" in the input search box\n",
    "\n",
    "    ############## Extracting the account with that name ###################\n",
    "\n",
    "wait = WebDriverWait(driver, 30) #Waiting for 10 seconds\n",
    "wait.until(EC.presence_of_element_located((By.CLASS_NAME, \"Ap253\"))) #Precaution if something happens\n",
    "\n",
    "accName = driver.find_elements_by_class_name(\"Ap253\") #Finding the class which contains data\n",
    "count = 1 #To count the number of accounts\n",
    "\n",
    "accountList = []\n",
    "\n",
    "for i in range(len(accName)):\n",
    "    if(\"#\" not in accName[i].text and accName[i].text != \"Food Garage HUDA\"  and count <= 10): #**Self Note* make it 10 in final submission\n",
    "        accountList.append(accName[i].text)\n",
    "        count += 1 #Increasing count everytime I print acc name\n",
    "        \n",
    "accountFollowers = {}\n",
    "\n",
    "for i in range (len(accountList)):\n",
    "    \n",
    "    visit(accountList[i])\n",
    "    exactFollowers = FollowersNumber()\n",
    "    \n",
    "    accountFollowers[accountList[i]] = exactFollowers\n",
    "sortedDict = {k: v for k, v in sorted(accountFollowers.items(), key=lambda item: item[1], reverse = True)}\n",
    "profiles = list(sortedDict.keys())\n",
    "print(\"-\" * 60)\n",
    "print(\"Top 5 profiles with highest followers are\")\n",
    "print(\"-\" * 60)\n",
    "topFive = []\n",
    "for j in range(5):\n",
    "    topFive.append(profiles[j])\n",
    "    print(profiles[j])\n",
    "print(\"-\" * 60)"
   ]
  },
  {
   "cell_type": "markdown",
   "metadata": {},
   "source": [
    "## 2.\tNow Find the number of posts these handles have done in the previous 3 days.\n",
    "## 3.\tDepict this information using a suitable graph.\n"
   ]
  },
  {
   "cell_type": "code",
   "execution_count": 108,
   "metadata": {},
   "outputs": [
    {
     "name": "stdout",
     "output_type": "stream",
     "text": [
      "Searching a profile foodandwine\n",
      "Searching a profile yourfoodlab\n",
      "Searching a profile dilsefoodie\n",
      "Searching a profile foodtalkindia\n",
      "Searching a profile foodie_incarnate\n"
     ]
    },
    {
     "data": {
      "image/png": "[encoded data removed]",
      "text/plain": [
       "<Figure size 432x288 with 1 Axes>"
      ]
     },
     "metadata": {
      "needs_background": "light"
     },
     "output_type": "display_data"
    }
   ],
   "source": [
    "postNumber = []\n",
    "for i in topFive:\n",
    "    visit(i)\n",
    "    count\n",
    "    wait = WebDriverWait(driver, 30) #Waiting for 10 seconds\n",
    "    wait.until(EC.presence_of_element_located((By.CLASS_NAME, \"_9AhH0\")))\n",
    "    imageLikes = driver.find_element_by_class_name(\"_9AhH0\")\n",
    "    imageLikes.click()\n",
    "    wait = WebDriverWait(driver, 30) #Waiting for 30 seconds\n",
    "    wait.until(EC.presence_of_element_located((By.CLASS_NAME, \"_97aPb \")))\n",
    "    #duration = driver.find_element_by_xpath(\"//time[contains(@class, '_1o9PC')]\")\n",
    "    count = 0\n",
    "    while True:\n",
    "        duration = driver.find_element_by_xpath(\"//time[contains(@class, '_1o9PC')]\")\n",
    "        if('HOUR' in duration.text  or '1 DAY' in duration.text or '2 DAYS' in duration.text or '3 DAYS' in duration.text or 'SECOND' in duration.text or 'MINUTES' in duration.text):\n",
    "            count += 1\n",
    "            waitNext = WebDriverWait(driver, 30)\n",
    "            waitNext.until(EC.element_to_be_clickable((By.XPATH, \"//a[contains(@class, '_65Bje')]\"))) #Precaution if something happens\n",
    "            nextButton = driver.find_element_by_xpath(\"//a[contains(@class, '_65Bje')]\") #next button for next image preview\n",
    "            nextButton.click() #clicking next button\n",
    "            wait = WebDriverWait(driver, 30) #Waiting for 30 seconds\n",
    "            wait.until(EC.presence_of_element_located((By.CLASS_NAME, \"_97aPb \")))\n",
    "        else:\n",
    "            ImageClose = driver.find_elements_by_class_name(\"wpO6b\")\n",
    "            ImageClose[-1].click()\n",
    "            break\n",
    "            \n",
    "    postNumber.append(count)\n",
    "plt.bar(topFive, postNumber)\n",
    "plt.xticks(rotation=30)\n",
    "plt.xlabel(\"Usernames\")\n",
    "plt.ylabel(\"No. of Posts\")\n",
    "plt.show()"
   ]
  },
  {
   "cell_type": "markdown",
   "metadata": {},
   "source": [
    "## 1.\tOpen the 5 handles you obtained in the last question, and scrape the content of the first 10 posts of each handle.\n",
    "## 2.\tPrepare a list of all words used in all the scraped posts and calculate the frequency of each word.\n",
    "## 3.\tCreate a csv file with two columns : the word and its frequency"
   ]
  },
  {
   "cell_type": "code",
   "execution_count": 123,
   "metadata": {},
   "outputs": [
    {
     "name": "stdout",
     "output_type": "stream",
     "text": [
      "Searching a profile foodandwine\n",
      "Searching a profile yourfoodlab\n",
      "Searching a profile dilsefoodie\n",
      "Searching a profile foodtalkindia\n",
      "Searching a profile foodie_incarnate\n",
      "CSV file has been created to your working directory\n"
     ]
    }
   ],
   "source": [
    "import pandas as pd\n",
    "allWords = []\n",
    "hashtags = []\n",
    "for i in topFive:\n",
    "    count = 1\n",
    "    time.sleep(2)\n",
    "    visit(i)\n",
    "    wait = WebDriverWait(driver, 30) #Waiting for 10 seconds\n",
    "    wait.until(EC.presence_of_element_located((By.CLASS_NAME, \"_9AhH0\")))\n",
    "    imageLikes = driver.find_element_by_class_name(\"_9AhH0\")\n",
    "    imageLikes.click()\n",
    "    while(count <= 10):\n",
    "        wait = WebDriverWait(driver, 30) #Waiting for 10 seconds\n",
    "        wait.until(EC.presence_of_element_located((By.CLASS_NAME, \"C4VMK\")))\n",
    "        \n",
    "        contentFind = driver.find_element_by_xpath(\"//div[contains(@class, 'C4VMK')]/span\").get_attribute('textContent').strip().split(\" \")\n",
    "        for content in contentFind:\n",
    "            allWords.append(content)\n",
    "        for hashes in driver.find_elements_by_xpath('//div[contains(@class, \"C4VMK\")]/span//a'):\n",
    "            hashtags.append(hashes.get_attribute('innerHTML'))\n",
    "        waitNext = WebDriverWait(driver, 30)\n",
    "        waitNext.until(EC.element_to_be_clickable((By.XPATH, \"//a[contains(@class, '_65Bje')]\"))) #Precaution if something happens\n",
    "        nextButton = driver.find_element_by_xpath(\"//a[contains(@class, '_65Bje')]\") #next button for next image preview\n",
    "        nextButton.click() #clicking next button\n",
    "        count += 1\n",
    "    driver.back()\n",
    "    driver.back()\n",
    "    time.sleep(1)\n",
    "    \n",
    "df = pd.DataFrame()\n",
    "final = pd.DataFrame()\n",
    "df[\"Words\"] = allWords\n",
    "frequency = list(df['Words'].value_counts().values)\n",
    "final.to_csv('Hashtg_Frequencies.csv')\n",
    "words = list(df['Words'].value_counts().index)\n",
    "final[\"Words\"] = words\n",
    "final[\"Frequency\"] = frequency\n",
    "final.to_csv('Hashtg_Frequencies.csv')\n",
    "print(\"CSV file has been created to your working directory\")"
   ]
  },
  {
   "cell_type": "markdown",
   "metadata": {},
   "source": [
    "## 4.\tNow, find the hashtags that were most popular among these bloggers\n",
    "## 5.\tPlot a Pie Chart of the top 5 hashtags obtained and the number of times they were used by these bloggers in the scraped posts.\n"
   ]
  },
  {
   "cell_type": "code",
   "execution_count": 125,
   "metadata": {},
   "outputs": [
    {
     "name": "stdout",
     "output_type": "stream",
     "text": [
      "Top 5 hashtags are: \n",
      "\n",
      "foodieincarnate ----> 10\n",
      "foodtalkindia ----> 9\n",
      "dilsefoodie ----> 9\n",
      "sodelhi ----> 7\n",
      "newdelhi ----> 7\n",
      "foodie ----> 7\n"
     ]
    },
    {
     "data": {
      "image/png": "[encoded data removed]",
      "text/plain": [
       "<Figure size 432x288 with 1 Axes>"
      ]
     },
     "metadata": {},
     "output_type": "display_data"
    }
   ],
   "source": [
    "hashTags = []\n",
    "for i in hashtags:\n",
    "    if(i[0] == \"#\"):\n",
    "        hashTags.append(i[1:])\n",
    "hashTagCount = pd.DataFrame()\n",
    "hashTagCount[\"hashtags\"] = hashTags\n",
    "\n",
    "tag = list(hashTagCount['hashtags'].value_counts().index)[0:6]\n",
    "frequent = list(hashTagCount['hashtags'].value_counts().values)[0:6]\n",
    "print(\"Top 5 hashtags are: \")\n",
    "print()\n",
    "for i in range(len(tag)):\n",
    "    print(tag[i], \"---->\", frequent[i])\n",
    "plt.pie(frequent, labels = tag, autopct='%.2f%%', shadow=True)\n",
    "plt.title('Pie Chart of the top 5 hashtags ')\n",
    "plt.show()"
   ]
  },
  {
   "cell_type": "markdown",
   "metadata": {},
   "source": [
    "## Find out the likes of the top 10 posts of the 5 handles obtained earlier."
   ]
  },
  {
   "cell_type": "code",
   "execution_count": 111,
   "metadata": {},
   "outputs": [
    {
     "name": "stdout",
     "output_type": "stream",
     "text": [
      "Searching a profile foodandwine\n",
      "Searching a profile yourfoodlab\n",
      "Searching a profile dilsefoodie\n",
      "Searching a profile foodtalkindia\n",
      "Searching a profile foodie_incarnate\n",
      "Likes for each Handle are: \n",
      "\n",
      "foodandwine -----> 94171\n",
      "yourfoodlab -----> 213188\n",
      "dilsefoodie -----> 73907\n",
      "foodtalkindia -----> 10417\n",
      "foodie_incarnate -----> 46609\n"
     ]
    }
   ],
   "source": [
    "TotalList = []\n",
    "for user in topFive:\n",
    "    count = 1\n",
    "    time.sleep(2)\n",
    "    visit(user)\n",
    "    wait = WebDriverWait(driver, 30) #Waiting for 10 seconds\n",
    "    wait.until(EC.presence_of_element_located((By.CLASS_NAME, \"_9AhH0\")))\n",
    "    imageLikes = driver.find_element_by_class_name(\"_9AhH0\")\n",
    "    imageLikes.click()\n",
    "    TotalLikes = 0\n",
    "    while(count <= 10):\n",
    "        try:\n",
    "            wait = WebDriverWait(driver, 6) #Waiting for 10 seconds\n",
    "            wait.until(EC.presence_of_element_located((By.XPATH, \"//div[contains(@class, 'Nm9Fw')]/button/span\")))\n",
    "            likeFind = driver.find_element_by_xpath('//div[contains(@class, \"Nm9Fw\")]/button/span')#\n",
    "            currentLikes = likeFind.text\n",
    "        except:\n",
    "            wait = WebDriverWait(driver, 10) #Waiting for 10 seconds\n",
    "            wait.until(EC.element_to_be_clickable((By.CLASS_NAME, \"vcOH2\")))\n",
    "            viewFind = driver.find_element_by_class_name('vcOH2')\n",
    "            viewFind.click()\n",
    "            wait = WebDriverWait(driver, 10) #Waiting for 10 seconds\n",
    "            wait.until(EC.presence_of_element_located((By.XPATH, \"//div[contains(@class, 'vJRqr')]/span\")))\n",
    "            likeFind = driver.find_element_by_xpath('//div[contains(@class, \"vJRqr\")]/span')#\n",
    "            currentLikes = likeFind.text\n",
    "            body = driver.find_element_by_class_name('QhbhU')#QhbhU\n",
    "            body.click()\n",
    "            \n",
    "        if(\",\" in currentLikes):\n",
    "            k = \"\"\n",
    "            a = currentLikes.split(\",\")\n",
    "            for j in range(len(a)):\n",
    "                k = k + a[j]\n",
    "            currentLikes = int(k)\n",
    "        else:\n",
    "            currentLikes = int(currentLikes)\n",
    "        TotalLikes = TotalLikes + currentLikes\n",
    "        waitNext = WebDriverWait(driver, 30)\n",
    "        waitNext.until(EC.element_to_be_clickable((By.XPATH, \"//a[contains(@class, '_65Bje')]\"))) #Precaution if something happens\n",
    "        nextButton = driver.find_element_by_xpath(\"//a[contains(@class, '_65Bje')]\") #next button for next image preview\n",
    "        nextButton.click()\n",
    "        count += 1\n",
    "    TotalList.append(TotalLikes)\n",
    "    ImageClose = driver.find_elements_by_class_name(\"wpO6b\")\n",
    "    ImageClose[-1].click()\n",
    "print(\"Likes for each Handle are: \")\n",
    "print()\n",
    "for i in range(5):\n",
    "    print(profiles[i], \"----->\", TotalList[i])"
   ]
  },
  {
   "cell_type": "markdown",
   "metadata": {},
   "source": [
    "## Calculate the average likes for a handle."
   ]
  },
  {
   "cell_type": "code",
   "execution_count": 112,
   "metadata": {},
   "outputs": [
    {
     "name": "stdout",
     "output_type": "stream",
     "text": [
      "Average Likes for each handle are: \n",
      "\n",
      "foodandwine ----> 9417.1\n",
      "yourfoodlab ----> 21318.8\n",
      "dilsefoodie ----> 7390.7\n",
      "foodtalkindia ----> 1041.7\n",
      "foodie_incarnate ----> 4660.9\n"
     ]
    }
   ],
   "source": [
    "import numpy as np\n",
    "TotalList = np.array(TotalList)\n",
    "avgLikes = (TotalList/10)\n",
    "print(\"Average Likes for each handle are: \")\n",
    "print()\n",
    "for i in range(5):\n",
    "    print(profiles[i], \"---->\", avgLikes[i])"
   ]
  },
  {
   "cell_type": "markdown",
   "metadata": {},
   "source": [
    "## 3.\tDivide the average likes obtained from the number of followers of the handle to get the average followers:like ratio of each handle."
   ]
  },
  {
   "cell_type": "code",
   "execution_count": 113,
   "metadata": {},
   "outputs": [
    {
     "name": "stdout",
     "output_type": "stream",
     "text": [
      "Followers : Likes Ratio is: \n",
      "\n",
      "foodandwine ----> 356.74496394856163\n",
      "yourfoodlab ----> 48.46178021276995\n",
      "dilsefoodie ----> 53.08671709039739\n",
      "foodtalkindia ----> 282.3596044926562\n",
      "foodie_incarnate ----> 34.72462399965672\n"
     ]
    }
   ],
   "source": [
    "NumberOfFollowers = list(sortedDict.values())[:5]\n",
    "followersLikes = NumberOfFollowers / avgLikes\n",
    "print(\"Followers : Likes Ratio is: \")\n",
    "print()\n",
    "for i in range(5):\n",
    "    print(profiles[i], \"---->\", followersLikes[i])\n"
   ]
  },
  {
   "cell_type": "markdown",
   "metadata": {},
   "source": [
    "## 4.\tCreate a bar graph to depict the above obtained information."
   ]
  },
  {
   "cell_type": "code",
   "execution_count": 114,
   "metadata": {},
   "outputs": [
    {
     "data": {
      "image/png": "[encoded data removed]",
      "text/plain": [
       "<Figure size 432x288 with 1 Axes>"
      ]
     },
     "metadata": {
      "needs_background": "light"
     },
     "output_type": "display_data"
    }
   ],
   "source": [
    "a = [100.23, 200.23, 200.23, 200.23, 200.23]\n",
    "plt.bar(topFive, followersLikes)\n",
    "plt.xticks(rotation=45)\n",
    "plt.xlabel('Users---->', size=12)\n",
    "plt.ylabel('Average followers to likes ratio---->', size=12)\n",
    "plt.show()"
   ]
  },
  {
   "cell_type": "code",
   "execution_count": 122,
   "metadata": {},
   "outputs": [
    {
     "name": "stdout",
     "output_type": "stream",
     "text": [
      "#foodieincarnate\n",
      "#AllNaturalEverything\n",
      "#GetFitWithAmar\n",
      "#CrownePlaza\n",
      "#sodelhi\n",
      "#newdelhi\n",
      "#delhigram\n",
      "#foodtalkindia\n",
      "#amarsirohi\n",
      "#indianfitnessblogger\n",
      "#indianfitness\n",
      "#fitindia\n",
      "#fitnessindia\n",
      "#gymlover\n",
      "#gymlovers\n",
      "#delhifitness\n",
      "#delhifitnessblogger\n",
      "#delhifoodblogger\n",
      "#delhifoodbloggers\n",
      "#kolkatafoodblogger\n",
      "#indianfoodblogger\n",
      "#delhibloggers\n",
      "#mumbaibloggers\n",
      "#delhifoodies\n",
      "#hotelblogger\n",
      "#hotelroom\n",
      "#indianhotels\n",
      "#foodiesofindia\n",
      "#holidaystay\n",
      "#leanmuscles\n"
     ]
    }
   ],
   "source": [
    "for i in driver.find_elements_by_xpath('//div[contains(@class, \"C4VMK\")]/span//a'):\n",
    "    print(i.text)\n"
   ]
  }
 ],
 "metadata": {
  "kernelspec": {
   "display_name": "Python 3",
   "language": "python",
   "name": "python3"
  },
  "language_info": {
   "codemirror_mode": {
    "name": "ipython",
    "version": 3
   },
   "file_extension": ".py",
   "mimetype": "text/x-python",
   "name": "python",
   "nbconvert_exporter": "python",
   "pygments_lexer": "ipython3",
   "version": "3.7.4"
  }
 },
 "nbformat": 4,
 "nbformat_minor": 2
}
